{
 "cells": [
  {
   "cell_type": "markdown",
   "metadata": {},
   "source": [
    "# Make and Use Tables\n",
    "In the following the structure of the make and use tables is described using the example from the chapter 12 of the [BEA IO-Manual](http://www.bea.gov/papers/pdf/IOmanual_092906.pdf).  \n",
    "\n",
    "## The Use Table\n",
    "The use table is a commodity-industry matrix which describes the amount of goods that is consumed by the respective industries. It also can contain additional columns of the final demand of goods and additional rows for value added and scrap. In the model builder, the use table is just a plain [pandas DataFrame](http://pandas.pydata.org/pandas-docs/stable/generated/pandas.DataFrame.html) and can be created in the following way:"
   ]
  },
  {
   "cell_type": "code",
   "execution_count": 2,
   "metadata": {
    "collapsed": false
   },
   "outputs": [
    {
     "data": {
      "text/html": [
       "<div>\n",
       "<table border=\"1\" class=\"dataframe\">\n",
       "  <thead>\n",
       "    <tr style=\"text-align: right;\">\n",
       "      <th></th>\n",
       "      <th>A</th>\n",
       "      <th>B</th>\n",
       "      <th>C</th>\n",
       "      <th>Final Demand</th>\n",
       "    </tr>\n",
       "  </thead>\n",
       "  <tbody>\n",
       "    <tr>\n",
       "      <th>A</th>\n",
       "      <td>50.0</td>\n",
       "      <td>120.0</td>\n",
       "      <td>120.0</td>\n",
       "      <td>40.0</td>\n",
       "    </tr>\n",
       "    <tr>\n",
       "      <th>B</th>\n",
       "      <td>180.0</td>\n",
       "      <td>30.0</td>\n",
       "      <td>60.0</td>\n",
       "      <td>130.0</td>\n",
       "    </tr>\n",
       "    <tr>\n",
       "      <th>C</th>\n",
       "      <td>50.0</td>\n",
       "      <td>150.0</td>\n",
       "      <td>50.0</td>\n",
       "      <td>20.0</td>\n",
       "    </tr>\n",
       "    <tr>\n",
       "      <th>Scrap</th>\n",
       "      <td>1.0</td>\n",
       "      <td>3.0</td>\n",
       "      <td>1.0</td>\n",
       "      <td>0.0</td>\n",
       "    </tr>\n",
       "    <tr>\n",
       "      <th>Value Added</th>\n",
       "      <td>47.0</td>\n",
       "      <td>109.0</td>\n",
       "      <td>34.0</td>\n",
       "      <td>0.0</td>\n",
       "    </tr>\n",
       "  </tbody>\n",
       "</table>\n",
       "</div>"
      ],
      "text/plain": [
       "                 A      B      C  Final Demand\n",
       "A             50.0  120.0  120.0          40.0\n",
       "B            180.0   30.0   60.0         130.0\n",
       "C             50.0  150.0   50.0          20.0\n",
       "Scrap          1.0    3.0    1.0           0.0\n",
       "Value Added   47.0  109.0   34.0           0.0"
      ]
     },
     "execution_count": 2,
     "metadata": {},
     "output_type": "execute_result"
    }
   ],
   "source": [
    "import pandas as pd\n",
    "import numpy as np\n",
    "\n",
    "use_data = np.array([\n",
    "        [50, 120, 120, 40],\n",
    "        [180, 30, 60, 130],\n",
    "        [50, 150, 50, 20],\n",
    "        [1, 3, 1, 0],\n",
    "        [47, 109, 34, 0]], dtype=np.float64)\n",
    "use_table = pd.DataFrame(data=use_data, \n",
    "                         index=['A', 'B', 'C', 'Scrap', 'Value Added'],\n",
    "                         columns=['A', 'B', 'C', 'Final Demand'])\n",
    "use_table"
   ]
  },
  {
   "cell_type": "markdown",
   "metadata": {},
   "source": [
    "As described above, in the use table the **commodities** are mapped to the **rows** and the **industries** are mapped to the **columns**. Thus, together with the added values (compensation of employees etc.) the sum of the row entries in a column is the total output of the industry described by the column:"
   ]
  },
  {
   "cell_type": "code",
   "execution_count": 4,
   "metadata": {
    "collapsed": false
   },
   "outputs": [
    {
     "data": {
      "text/html": [
       "<div>\n",
       "<table border=\"1\" class=\"dataframe\">\n",
       "  <thead>\n",
       "    <tr style=\"text-align: right;\">\n",
       "      <th></th>\n",
       "      <th>Total industry output</th>\n",
       "    </tr>\n",
       "  </thead>\n",
       "  <tbody>\n",
       "    <tr>\n",
       "      <th>A</th>\n",
       "      <td>328.0</td>\n",
       "    </tr>\n",
       "    <tr>\n",
       "      <th>B</th>\n",
       "      <td>412.0</td>\n",
       "    </tr>\n",
       "    <tr>\n",
       "      <th>C</th>\n",
       "      <td>265.0</td>\n",
       "    </tr>\n",
       "    <tr>\n",
       "      <th>Final Demand</th>\n",
       "      <td>190.0</td>\n",
       "    </tr>\n",
       "  </tbody>\n",
       "</table>\n",
       "</div>"
      ],
      "text/plain": [
       "              Total industry output\n",
       "A                             328.0\n",
       "B                             412.0\n",
       "C                             265.0\n",
       "Final Demand                  190.0"
      ]
     },
     "execution_count": 4,
     "metadata": {},
     "output_type": "execute_result"
    }
   ],
   "source": [
    "total_industry_output = use_table.sum(axis=0)\n",
    "total_industry_output.to_frame('Total industry output')"
   ]
  },
  {
   "cell_type": "markdown",
   "metadata": {},
   "source": []
  }
 ],
 "metadata": {
  "kernelspec": {
   "display_name": "Python 3",
   "language": "python",
   "name": "python3"
  },
  "language_info": {
   "codemirror_mode": {
    "name": "ipython",
    "version": 3.0
   },
   "file_extension": ".py",
   "mimetype": "text/x-python",
   "name": "python",
   "nbconvert_exporter": "python",
   "pygments_lexer": "ipython3",
   "version": "3.5.0"
  }
 },
 "nbformat": 4,
 "nbformat_minor": 0
}